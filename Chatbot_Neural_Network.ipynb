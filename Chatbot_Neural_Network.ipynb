{
 "cells": [
  {
   "cell_type": "markdown",
   "metadata": {
    "id": "84R5qD9bfkPq"
   },
   "source": [
    "# Build a Chatbot with Neural Network "
   ]
  },
  {
   "cell_type": "markdown",
   "metadata": {
    "id": "CdVfv9WgfkQD"
   },
   "source": [
    "We've discovered how to build a chatbot with cosine similarity. Now, let's explore how we might build one with neural network!\n",
    "\n",
    "We will create our training data, train a neural network with them, then use the trained model to make our chatbot. \n",
    "\n",
    "First, we will install required libraries. Uncomment the few blocks below only if you do not have the libraries installed. "
   ]
  },
  {
   "cell_type": "code",
   "execution_count": 25,
   "metadata": {
    "id": "FTOZ-imVfkQH"
   },
   "outputs": [],
   "source": [
    "#!pip install numpy scipy\n",
    "#!pip install scikit-learn\n",
    "#!pip install pillow\n",
    "#!pip install h5py"
   ]
  },
  {
   "cell_type": "code",
   "execution_count": 26,
   "metadata": {
    "id": "UKKRTuoZfkQK",
    "scrolled": true
   },
   "outputs": [],
   "source": [
    "#!pip install tensorflow"
   ]
  },
  {
   "cell_type": "code",
   "execution_count": 27,
   "metadata": {
    "id": "o365BMr1fkQM"
   },
   "outputs": [],
   "source": [
    "#!pip install tensorflow-gpu"
   ]
  },
  {
   "cell_type": "code",
   "execution_count": 28,
   "metadata": {
    "id": "vgPiyKYmfkQO"
   },
   "outputs": [],
   "source": [
    "#!pip install keras"
   ]
  },
  {
   "cell_type": "markdown",
   "metadata": {
    "id": "oDaX7fLefkQP"
   },
   "source": [
    "# 1. Install Libraries\n",
    "\n",
    "Firstly, we will install libraries needed for this neural network powered chatbot. \n",
    "Keras is a machine learning library which utilizes tensorflow (another lower level machine learning library) at the backend. This makes it easier for us to deploy deep neural network for this purpose. "
   ]
  },
  {
   "cell_type": "code",
   "execution_count": 29,
   "metadata": {
    "id": "XKeTU-dYfkQR"
   },
   "outputs": [
    {
     "ename": "ModuleNotFoundError",
     "evalue": "No module named 'keras'",
     "output_type": "error",
     "traceback": [
      "\u001b[0;31m---------------------------------------------------------------------------\u001b[0m",
      "\u001b[0;31mModuleNotFoundError\u001b[0m                       Traceback (most recent call last)",
      "Cell \u001b[0;32mIn[29], line 1\u001b[0m\n\u001b[0;32m----> 1\u001b[0m \u001b[38;5;28;01mfrom\u001b[39;00m \u001b[38;5;21;01mkeras\u001b[39;00m\u001b[38;5;21;01m.\u001b[39;00m\u001b[38;5;21;01mmodels\u001b[39;00m \u001b[38;5;28;01mimport\u001b[39;00m Sequential\n\u001b[1;32m      2\u001b[0m \u001b[38;5;28;01mfrom\u001b[39;00m \u001b[38;5;21;01mkeras\u001b[39;00m\u001b[38;5;21;01m.\u001b[39;00m\u001b[38;5;21;01mlosses\u001b[39;00m \u001b[38;5;28;01mimport\u001b[39;00m categorical_crossentropy\n\u001b[1;32m      3\u001b[0m \u001b[38;5;28;01mfrom\u001b[39;00m \u001b[38;5;21;01mkeras\u001b[39;00m\u001b[38;5;21;01m.\u001b[39;00m\u001b[38;5;21;01moptimizers\u001b[39;00m \u001b[38;5;28;01mimport\u001b[39;00m SGD\n",
      "\u001b[0;31mModuleNotFoundError\u001b[0m: No module named 'keras'"
     ]
    }
   ],
   "source": [
    "from keras.models import Sequential\n",
    "from keras.losses import categorical_crossentropy\n",
    "from keras.optimizers import SGD\n",
    "from keras.layers import Dense\n",
    " \n",
    "from numpy import argmax\n",
    "import numpy as np\n",
    "import re"
   ]
  },
  {
   "cell_type": "markdown",
   "metadata": {
    "id": "AQp3R9edfkQU"
   },
   "source": [
    "# 2. Input training data\n",
    "\n",
    "We will first include the following training data for our chatbot:\n",
    "1. X represent the different possible inputs that users might enter\n",
    "2. Y represent the intent of the inputs"
   ]
  },
  {
   "cell_type": "code",
   "execution_count": null,
   "metadata": {
    "id": "HZUmydzQfkQW"
   },
   "outputs": [],
   "source": [
    "X = ['Hi',\n",
    "     'Hello',\n",
    "     'How are you?',\n",
    "     'I am making',\n",
    "     'making',\n",
    "     'working',\n",
    "     'studying',\n",
    "     'see you later',\n",
    "     'bye',\n",
    "     'goodbye']"
   ]
  },
  {
   "cell_type": "code",
   "execution_count": null,
   "metadata": {
    "colab": {
     "base_uri": "https://localhost:8080/"
    },
    "id": "s4HMUuozfkQX",
    "outputId": "271b50c4-2147-4110-a978-8600123c55ac"
   },
   "outputs": [],
   "source": [
    "print(len(X))"
   ]
  },
  {
   "cell_type": "code",
   "execution_count": null,
   "metadata": {
    "id": "Idw9oW9MfkQY"
   },
   "outputs": [],
   "source": [
    "Y = ['greeting',\n",
    "     'greeting',\n",
    "     'greeting',\n",
    "     'busy',\n",
    "     'busy',\n",
    "     'busy',\n",
    "     'busy',\n",
    "     'bye',\n",
    "     'bye',\n",
    "     'bye']"
   ]
  },
  {
   "cell_type": "code",
   "execution_count": null,
   "metadata": {
    "colab": {
     "base_uri": "https://localhost:8080/"
    },
    "id": "zjrtduQ0fkQZ",
    "outputId": "6f9809fb-8c2f-4660-9db5-997642d8c9ed"
   },
   "outputs": [],
   "source": [
    "print(len(Y))"
   ]
  },
  {
   "cell_type": "markdown",
   "metadata": {
    "id": "zzcNQxzlfkQa"
   },
   "source": [
    "Notice that there are several different sentences that have similar intent. Here, we are only having 3 intents, but you can add as many as you want for your project!"
   ]
  },
  {
   "cell_type": "markdown",
   "metadata": {
    "id": "KYMDuEiwfkQb"
   },
   "source": [
    "This is the way our chatbot will work:\n",
    "1. From the input sentence, we will identify the intent using our trained AI model.\n",
    "2. For each intent, we have a prepared response. \n",
    "\n",
    "For example, if we identify that the intent of the input is for a greeting, we might ask the chatbot to reply with a greeting as well, something like 'hi' or 'how are you doing?'\n",
    "\n",
    "We will use machine learning to create a model that can classify input sentence into different intents. \n",
    "We make it as follows:\n",
    "\n",
    "1. We create a training data (X and Y above) which contains a list of sentences and their intents.\n",
    "2. Use the training data to train a classifier. \n",
    "3. Vectorize input sentences and use classifier to determine intent. "
   ]
  },
  {
   "cell_type": "markdown",
   "metadata": {
    "id": "OjamB7jDfkQc"
   },
   "source": [
    "# 3. Text processing\n",
    "\n",
    "As usual, we will start with text processing. Do you remember the process?\n",
    "\n",
    "## 3.1 Remove non alphanumeric characters"
   ]
  },
  {
   "cell_type": "code",
   "execution_count": null,
   "metadata": {
    "id": "UCIYqZ2DfkQd"
   },
   "outputs": [],
   "source": [
    "def remove_non_alpha_numeric_characters(sentence):\n",
    "    new_sentence = ''\n",
    "    for alphabet in sentence:\n",
    "        if alphabet.isalpha() or alphabet == ' ':\n",
    "            new_sentence += alphabet\n",
    "    return new_sentence"
   ]
  },
  {
   "cell_type": "code",
   "execution_count": null,
   "metadata": {
    "id": "7d14nZq0fkQe"
   },
   "outputs": [],
   "source": [
    "def preprocess_data(X):\n",
    "    X = [data_point.lower() for data_point in X]\n",
    "    X = [remove_non_alpha_numeric_characters(\n",
    "        sentence) for sentence in X]\n",
    "    X = [data_point.strip() for data_point in X]\n",
    "    X = [re.sub(' +', ' ',\n",
    "                data_point) for data_point in X]\n",
    "    return X"
   ]
  },
  {
   "cell_type": "code",
   "execution_count": null,
   "metadata": {
    "id": "pkW__oBzfkQf"
   },
   "outputs": [],
   "source": [
    "X = preprocess_data(X)\n",
    "\n",
    "vocabulary = set()\n",
    "for data_point in X:\n",
    "    for word in data_point.split(' '):\n",
    "        vocabulary.add(word)\n",
    "\n",
    "vocabulary = list(vocabulary)"
   ]
  },
  {
   "cell_type": "markdown",
   "metadata": {
    "id": "yVXE6i6kfkQg"
   },
   "source": [
    "## Create document vectors"
   ]
  },
  {
   "cell_type": "code",
   "execution_count": null,
   "metadata": {
    "id": "j0bWlGzxfkQi"
   },
   "outputs": [],
   "source": [
    "X_encoded = []\n",
    "\n",
    "def encode_sentence(sentence):\n",
    "    sentence = preprocess_data([sentence])[0]\n",
    "    sentence_encoded = [0] * len(vocabulary)\n",
    "    for i in range(len(vocabulary)):\n",
    "        if vocabulary[i] in sentence.split(' '):\n",
    "            sentence_encoded[i] = 1\n",
    "    return sentence_encoded\n",
    "\n",
    "X_encoded = [encode_sentence(sentence) for sentence in X]"
   ]
  },
  {
   "cell_type": "code",
   "execution_count": null,
   "metadata": {
    "id": "J8G5HYzdfkQj"
   },
   "outputs": [],
   "source": [
    "classes = list(set(Y))\n",
    "\n",
    "Y_encoded = []\n",
    "for data_point in Y:\n",
    "    data_point_encoded = [0] * len(classes)\n",
    "    for i in range(len(classes)):\n",
    "        if classes[i] == data_point:\n",
    "            data_point_encoded[i] = 1\n",
    "    Y_encoded.append(data_point_encoded)"
   ]
  },
  {
   "cell_type": "markdown",
   "metadata": {
    "id": "60xNvFd-fkQj"
   },
   "source": [
    "# 4. Create training data and test data"
   ]
  },
  {
   "cell_type": "code",
   "execution_count": null,
   "metadata": {
    "id": "1wtO-4GifkQk"
   },
   "outputs": [],
   "source": [
    "X_train = X_encoded\n",
    "y_train = Y_encoded\n",
    "X_test = X_encoded\n",
    "y_test = Y_encoded"
   ]
  },
  {
   "cell_type": "markdown",
   "metadata": {
    "id": "F1ehRn6sfkQl"
   },
   "source": [
    "Print and check the data you are using for training and test data"
   ]
  },
  {
   "cell_type": "code",
   "execution_count": null,
   "metadata": {
    "colab": {
     "base_uri": "https://localhost:8080/"
    },
    "id": "DWBViohvfkQm",
    "outputId": "3ada780b-2a2b-4983-c6c0-39f3ceee1bc2"
   },
   "outputs": [],
   "source": [
    "print (y_test)"
   ]
  },
  {
   "cell_type": "code",
   "execution_count": null,
   "metadata": {
    "colab": {
     "base_uri": "https://localhost:8080/"
    },
    "id": "kHzU8xDMvGdz",
    "outputId": "f5233eb0-2250-423d-d737-94bdcf9700da"
   },
   "outputs": [],
   "source": [
    "print(X_train)"
   ]
  },
  {
   "cell_type": "code",
   "execution_count": null,
   "metadata": {
    "id": "nevuJGu9fkQn",
    "outputId": "e4fbbfaa-9d3e-4ee3-e6f3-ace4d501ee24"
   },
   "outputs": [],
   "source": [
    "print(len(X_train))"
   ]
  },
  {
   "cell_type": "code",
   "execution_count": null,
   "metadata": {
    "id": "r6sF6LB1fkQo",
    "outputId": "e1d1b654-102d-40c1-9ffe-00091a093613",
    "scrolled": true
   },
   "outputs": [],
   "source": [
    "y_train"
   ]
  },
  {
   "cell_type": "markdown",
   "metadata": {
    "id": "RxQK2ATZfkQp"
   },
   "source": [
    "What does y_train represent? Do you understand the array shown above?"
   ]
  },
  {
   "cell_type": "markdown",
   "metadata": {
    "id": "VM7IRIMMfkQq"
   },
   "source": [
    "# 5. Model training"
   ]
  },
  {
   "cell_type": "markdown",
   "metadata": {
    "id": "KZU2qcfBfkQq"
   },
   "source": [
    "Now we will use the training data to train our neural network."
   ]
  },
  {
   "cell_type": "code",
   "execution_count": null,
   "metadata": {
    "colab": {
     "base_uri": "https://localhost:8080/"
    },
    "id": "BhQnUzw3fkQr",
    "outputId": "2d17e01b-1642-4acc-9eb7-12323724d4d1"
   },
   "outputs": [],
   "source": [
    "model = Sequential()\n",
    "model.add(Dense(units=64, activation='sigmoid',\n",
    "                input_dim=len(X_train[0])))\n",
    "model.add(Dense(units=len(y_train[0]), activation='softmax'))\n",
    "model.summary()"
   ]
  },
  {
   "cell_type": "code",
   "execution_count": null,
   "metadata": {
    "colab": {
     "base_uri": "https://localhost:8080/"
    },
    "id": "1S4O9bevwTzk",
    "outputId": "37ff9093-cd74-4962-b41f-9f49d6781aeb"
   },
   "outputs": [],
   "source": [
    "model.compile(loss=categorical_crossentropy,\n",
    "              optimizer=SGD(lr=0.01,\n",
    "                            momentum=0.9, nesterov=True))\n",
    "model.fit(np.array(X_train), np.array(y_train), epochs=100, batch_size=16)"
   ]
  },
  {
   "cell_type": "markdown",
   "metadata": {
    "id": "55RKKPKifkQs"
   },
   "source": [
    "## List down predictions"
   ]
  },
  {
   "cell_type": "code",
   "execution_count": null,
   "metadata": {
    "id": "kv02BHAXfkQt"
   },
   "outputs": [],
   "source": [
    "predictions = [argmax(pred) for pred in model.predict(np.array(X_test))]"
   ]
  },
  {
   "cell_type": "markdown",
   "metadata": {
    "id": "JCFtQ2I-fkQu"
   },
   "source": [
    "# Model Evaluation"
   ]
  },
  {
   "cell_type": "markdown",
   "metadata": {
    "id": "Uq8qn02BfkQv"
   },
   "source": [
    "Let's evaluate our model now. We will compare the prediction made by the model and our test data:"
   ]
  },
  {
   "cell_type": "code",
   "execution_count": null,
   "metadata": {
    "colab": {
     "base_uri": "https://localhost:8080/"
    },
    "id": "a-KoMBjRfkQw",
    "outputId": "b46affd2-58a9-4cc3-861b-5288ac99b137"
   },
   "outputs": [],
   "source": [
    "correct = 0\n",
    "for i in range(len(predictions)):\n",
    "    if predictions[i] == argmax(y_test[i]):\n",
    "        correct += 1\n",
    "\n",
    "print (\"Correct:\", correct)\n",
    "print (\"Total:\", len(predictions))"
   ]
  },
  {
   "cell_type": "markdown",
   "metadata": {
    "id": "3Mb3ZjlnfkQy"
   },
   "source": []
  },
  {
   "cell_type": "markdown",
   "metadata": {
    "id": "vhc9-OyrfkQy"
   },
   "source": [
    "# Testing the chatbot"
   ]
  },
  {
   "cell_type": "markdown",
   "metadata": {
    "id": "U3LpC9tgfkQz"
   },
   "source": [
    "Let's test the chatbot now! We will input a sentence, and then see what class is predicted by the neural network:"
   ]
  },
  {
   "cell_type": "code",
   "execution_count": null,
   "metadata": {
    "colab": {
     "base_uri": "https://localhost:8080/",
     "height": 658
    },
    "id": "OskgER2pfkQ0",
    "outputId": "92eb39bf-7e08-45a4-d89c-e4c70b95f199",
    "scrolled": true
   },
   "outputs": [],
   "source": [
    "while True:\n",
    "    print (\"Enter a sentence\")\n",
    "    sentence = input()\n",
    "    prediction= model.predict(np.array([encode_sentence(sentence)]))\n",
    "    print (classes[argmax(prediction)])"
   ]
  },
  {
   "cell_type": "markdown",
   "metadata": {
    "id": "_IPWXgNLfkQ1"
   },
   "source": [
    "Realize that you can't stop the chatbot? You'll have to add the exit command later (see the previous notebook to find out how to do it. \n",
    "\n",
    "For now, simply press the stop button (interrupt button) above to stop the chatbot. \n",
    "\n",
    "Try it! press the stop button, and try typing something onto the box. "
   ]
  },
  {
   "cell_type": "markdown",
   "metadata": {
    "id": "z5BuCQm7fkQ2"
   },
   "source": [
    "# Challenge\n",
    "\n",
    "We have successfully use neural network to map our input to conversation intent. \n",
    "Your challenge is to link the conversation intent to a particular response that the chatbot will say. \n",
    "For example, if the conversation intent is 'greeting', get your chatbot to say a greeting as well!"
   ]
  },
  {
   "cell_type": "code",
   "execution_count": null,
   "metadata": {
    "id": "1vSSK5nqfkQ3",
    "outputId": "d0b31f3a-69e7-4002-af57-abe7a6c041fe"
   },
   "outputs": [],
   "source": [
    "while True:\n",
    "    print (\"Enter a sentence\")\n",
    "    sentence = input()\n",
    "    prediction= model.predict(np.array([encode_sentence(sentence)]))\n",
    "    #print (classes[argmax(prediction)])\n",
    "    if (classes[argmax(prediction)] == 'bye'):\n",
    "        print ('Goodbye! See you next time!')\n",
    "    elif (classes[argmax(prediction)] == 'busy'):\n",
    "        print('ah... all the best!')\n",
    "    elif (classes[argmax(prediction)] == 'greeting'):\n",
    "        print ('Hi!')"
   ]
  },
  {
   "cell_type": "markdown",
   "metadata": {
    "id": "sOaignv8fkQ4"
   },
   "source": [
    "### Great job! You've successfully created a simple chatbot with neural network! How might you improve the chatbot?\n",
    "You can improve the chatbot by:\n",
    "- Adding more training data\n",
    "- Adding more intent\n",
    "- Focusing on a particular topic and train the chatbot with many training data in that topic"
   ]
  },
  {
   "cell_type": "markdown",
   "metadata": {
    "id": "SgvdEIW-fkQ5"
   },
   "source": [
    "### Resource:\n",
    "https://blog.eduonix.com/internet-of-things/simple-nlp-based-chatbot-python/"
   ]
  }
 ],
 "metadata": {
  "colab": {
   "name": "Chatbot_Neural_Network",
   "provenance": []
  },
  "kernelspec": {
   "display_name": "Python 3",
   "language": "python",
   "name": "python3"
  },
  "language_info": {
   "codemirror_mode": {
    "name": "ipython",
    "version": 3
   },
   "file_extension": ".py",
   "mimetype": "text/x-python",
   "name": "python",
   "nbconvert_exporter": "python",
   "pygments_lexer": "ipython3",
   "version": "3.12.1"
  }
 },
 "nbformat": 4,
 "nbformat_minor": 0
}
